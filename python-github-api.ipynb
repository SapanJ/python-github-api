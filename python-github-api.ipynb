{
 "cells": [
  {
   "cell_type": "markdown",
   "metadata": {},
   "source": [
    "# Pandas + Python + GitHub API\n",
    "\n",
    "\n"
   ]
  },
  {
   "cell_type": "code",
   "execution_count": 1,
   "metadata": {
    "collapsed": true
   },
   "outputs": [],
   "source": [
    "#Importing Pandas \n",
    "import pandas as pd\n",
    "#Importing Requests\n",
    "import requests"
   ]
  },
  {
   "cell_type": "code",
   "execution_count": null,
   "metadata": {
    "collapsed": true
   },
   "outputs": [],
   "source": []
  },
  {
   "cell_type": "code",
   "execution_count": 7,
   "metadata": {
    "collapsed": false
   },
   "outputs": [],
   "source": [
    "class GitHubRepo:\n",
    "    PAGE=50 # Assuming total pages for any repo is not more than 50\n",
    "    TOP_REPO=5 # selecting top 5 repositories \n",
    "    USER_ID='' #Github Username/email_id\n",
    "    PASS=''  #Github Password\n",
    "    API='https://api.github.com/users/google/repos?page={}' #Google Github API url; page-wise\n",
    "    URL='https://api.github.com/users/google/repos'\n",
    "    \n",
    "    def __init__(self,username,password):\n",
    "        self.USER_ID=username\n",
    "        self.PASS=password\n",
    "        #self.sort_by_param=sort_by_param\n",
    "    \n",
    "    def check_valid_input(self):\n",
    "        r=requests.get(self.URL,auth=(self.USER_ID,self.PASS))\n",
    "        code=r.status_code\n",
    "        if code == 200:\n",
    "            return True \n",
    "        elif code == 404:\n",
    "            return  \"API URL is incorrect!\"\n",
    "        else:\n",
    "            return \"Please provide valid GitHub Credentials\"\n",
    "                \n",
    "            \n",
    "    def print_data(self):\n",
    "        print self.USER_ID, self.PASS\n",
    "    \n",
    "    def get_url_response(self):\n",
    "        combined_json=pd.DataFrame()\n",
    "        for page_number in range(1,self.PAGE):\n",
    "            url = self.API.format(page_number)\n",
    "            print \"Accessing Page Number : \", page_number\n",
    "\n",
    "            #Getting response through request function call\n",
    "            urlData = requests.get(url,auth=(self.USER_ID,self.PASS)).content\n",
    "            #Converting response into Pandas DataFrame format\n",
    "            json_response =pd.read_json(urlData)\n",
    "            if not (json_response.empty):\n",
    "                #Combinig the data from all pages\n",
    "                combined_json=pd.concat([combined_json, json_response], axis=0,ignore_index=True)\n",
    "                #print len(combined_json['forks_count'])\n",
    "            else:\n",
    "                break\n",
    "    \n",
    "        return combined_json\n",
    "    \n",
    "    def get_sorted(self,combined_json,sort_by_param):\n",
    "        sorted_repos=combined_json.sort_values(by=sort_by_param,ascending=False)\n",
    "        return sorted_repos\n",
    "    \n",
    "    def get_top_records(self,sorted_repos):\n",
    "        #Selecting TOP 5 Repositories \n",
    "        selected_repo=sorted_repos[:self.TOP_REPO]\n",
    "        selected_repo=selected_repo.reset_index(drop=True)\n",
    "        print selected_repo.shape\n",
    "        #print type(selected_repo), selected_repo\n",
    "        return selected_repo\n",
    "        \n",
    "    def prepare_table(self,selected_repo):\n",
    "        data=pd.DataFrame(index=None)\n",
    "        data['repo_name']=selected_repo['name']\n",
    "        data['forks_count']=selected_repo['forks_count']\n",
    "        data['contributer_url']=selected_repo['contributors_url']\n",
    "        data.reset_index(drop=True)\n",
    "        return data\n",
    "    \n",
    "    def get_contributor_url(self,data):\n",
    "        contri_url=data['contributer_url']\n",
    "        repo_name=data['repo_name']\n",
    "        key=['Repo_Name','Committer_Name','Commit_Count']\n",
    "        commit_data=pd.DataFrame(columns=key,index=None)\n",
    "        #commit_data=pd.DataFrame()\n",
    "        temp_data=pd.DataFrame(columns=key,index=None)\n",
    "\n",
    "        for url,repo in zip(contri_url,repo_name): \n",
    "            contri_json =pd.read_json(url)\n",
    "            #contri_json.apply(func(repo_name)) \n",
    "            temp_data['Committer_Name']=contri_json['login']\n",
    "            temp_data['Repo_Name']= repo\n",
    "            temp_data['Commit_Count']=contri_json['contributions']\n",
    "            commit_data=pd.concat([commit_data,temp_data],ignore_index=True)\n",
    "        return commit_data\n",
    "    \n",
    "    def get_commit_chart(self,commit_data):\n",
    "        #### Used Groupby and sort on selected data\n",
    "        result=commit_data.sort_values(by=['Commit_Count'],ascending=False).groupby('Repo_Name')\n",
    "        return result"
   ]
  },
  {
   "cell_type": "markdown",
   "metadata": {},
   "source": [
    "### Execution"
   ]
  },
  {
   "cell_type": "code",
   "execution_count": null,
   "metadata": {
    "collapsed": false
   },
   "outputs": [],
   "source": [
    "import sys\n",
    "if __name__==\"__main__\":\n",
    "    username=raw_input(\"Enter GitHub UserName/EmailID \\t\")\n",
    "    password=raw_input(\"Enter GitHub Password  \\t\")\n",
    "    #print user_name,password\n",
    "    obj=GitHubRepo(username,password)\n",
    "    #Input Validity Check\n",
    "    status=obj.check_valid_input()\n",
    "    #print status\n",
    "    if status != True:\n",
    "        print status, \"\\nPlease try again...\"\n",
    "        sys.exit\n",
    "    else:\n",
    "        #Reading HTML Content \n",
    "        data=obj.get_url_response()\n",
    "        \n",
    "        # Sorting DataSet using 'fork_count' field\n",
    "        sortdata=obj.get_sorted(data,'forks_count')\n",
    "        \n",
    "        # Select TOP 5 Sorted Records \n",
    "        selected_repo=obj.get_top_records(sortdata)\n",
    "        \n",
    "        #print type(selected_repo), selected_repo.shape\n",
    "        data_table=obj.prepare_table(selected_repo)\n",
    "        \n",
    "        #print type(data_table),data_table\n",
    "        commit_data=obj.get_contributor_url(data_table)\n",
    "        \n",
    "        final_result=obj.get_commit_chart(commit_data)\n",
    "        #printing TOP commitee and their commit counts\n",
    "        print final_result.head(3)"
   ]
  },
  {
   "cell_type": "markdown",
   "metadata": {},
   "source": [
    "## Output should look something like this"
   ]
  },
  {
   "cell_type": "code",
   "execution_count": null,
   "metadata": {
    "collapsed": true
   },
   "outputs": [],
   "source": [
    "              Repo_Name Committer_Name  Commit_Count\n",
    "60                  guava        cpovirk        1144.0\n",
    "45   material-design-lite     addyosmani         697.0\n",
    "30               protobuf         jskeet         569.0\n",
    "46   material-design-lite          surma         555.0\n",
    "31               protobuf        xfxyjwf         530.0\n",
    "61                  guava        kluever         496.0\n",
    "47   material-design-lite         sgomes         473.0\n",
    "62                  guava       cgdecker         421.0\n",
    "32               protobuf          pherl         368.0\n",
    "15                iosched    PaulRashidi         145.0\n",
    "16                iosched   freewheelnat         129.0\n",
    "17                iosched         tjohns          50.0\n",
    "0   material-design-icons       jestelle          37.0\n",
    "1   material-design-icons       shyndman          36.0\n",
    "2   material-design-icons     addyosmani          12.0"
   ]
  },
  {
   "cell_type": "code",
   "execution_count": null,
   "metadata": {
    "collapsed": true
   },
   "outputs": [],
   "source": []
  },
  {
   "cell_type": "code",
   "execution_count": 6,
   "metadata": {
    "collapsed": false,
    "scrolled": false
   },
   "outputs": [
    {
     "data": {
      "text/html": [
       "<div>\n",
       "<table border=\"1\" class=\"dataframe\">\n",
       "  <thead>\n",
       "    <tr style=\"text-align: right;\">\n",
       "      <th></th>\n",
       "      <th>Repo_Name</th>\n",
       "      <th>Committer_Name</th>\n",
       "      <th>Commit_Count</th>\n",
       "    </tr>\n",
       "  </thead>\n",
       "  <tbody>\n",
       "    <tr>\n",
       "      <th>60</th>\n",
       "      <td>guava</td>\n",
       "      <td>cpovirk</td>\n",
       "      <td>1144.0</td>\n",
       "    </tr>\n",
       "    <tr>\n",
       "      <th>45</th>\n",
       "      <td>material-design-lite</td>\n",
       "      <td>addyosmani</td>\n",
       "      <td>697.0</td>\n",
       "    </tr>\n",
       "    <tr>\n",
       "      <th>30</th>\n",
       "      <td>protobuf</td>\n",
       "      <td>jskeet</td>\n",
       "      <td>569.0</td>\n",
       "    </tr>\n",
       "    <tr>\n",
       "      <th>46</th>\n",
       "      <td>material-design-lite</td>\n",
       "      <td>surma</td>\n",
       "      <td>555.0</td>\n",
       "    </tr>\n",
       "    <tr>\n",
       "      <th>31</th>\n",
       "      <td>protobuf</td>\n",
       "      <td>xfxyjwf</td>\n",
       "      <td>530.0</td>\n",
       "    </tr>\n",
       "    <tr>\n",
       "      <th>61</th>\n",
       "      <td>guava</td>\n",
       "      <td>kluever</td>\n",
       "      <td>496.0</td>\n",
       "    </tr>\n",
       "    <tr>\n",
       "      <th>47</th>\n",
       "      <td>material-design-lite</td>\n",
       "      <td>sgomes</td>\n",
       "      <td>473.0</td>\n",
       "    </tr>\n",
       "    <tr>\n",
       "      <th>62</th>\n",
       "      <td>guava</td>\n",
       "      <td>cgdecker</td>\n",
       "      <td>421.0</td>\n",
       "    </tr>\n",
       "    <tr>\n",
       "      <th>32</th>\n",
       "      <td>protobuf</td>\n",
       "      <td>pherl</td>\n",
       "      <td>368.0</td>\n",
       "    </tr>\n",
       "    <tr>\n",
       "      <th>15</th>\n",
       "      <td>iosched</td>\n",
       "      <td>PaulRashidi</td>\n",
       "      <td>145.0</td>\n",
       "    </tr>\n",
       "    <tr>\n",
       "      <th>16</th>\n",
       "      <td>iosched</td>\n",
       "      <td>freewheelnat</td>\n",
       "      <td>129.0</td>\n",
       "    </tr>\n",
       "    <tr>\n",
       "      <th>17</th>\n",
       "      <td>iosched</td>\n",
       "      <td>tjohns</td>\n",
       "      <td>50.0</td>\n",
       "    </tr>\n",
       "    <tr>\n",
       "      <th>0</th>\n",
       "      <td>material-design-icons</td>\n",
       "      <td>jestelle</td>\n",
       "      <td>37.0</td>\n",
       "    </tr>\n",
       "    <tr>\n",
       "      <th>1</th>\n",
       "      <td>material-design-icons</td>\n",
       "      <td>shyndman</td>\n",
       "      <td>36.0</td>\n",
       "    </tr>\n",
       "    <tr>\n",
       "      <th>2</th>\n",
       "      <td>material-design-icons</td>\n",
       "      <td>addyosmani</td>\n",
       "      <td>12.0</td>\n",
       "    </tr>\n",
       "  </tbody>\n",
       "</table>\n",
       "</div>"
      ],
      "text/plain": [
       "                Repo_Name Committer_Name  Commit_Count\n",
       "60                  guava        cpovirk        1144.0\n",
       "45   material-design-lite     addyosmani         697.0\n",
       "30               protobuf         jskeet         569.0\n",
       "46   material-design-lite          surma         555.0\n",
       "31               protobuf        xfxyjwf         530.0\n",
       "61                  guava        kluever         496.0\n",
       "47   material-design-lite         sgomes         473.0\n",
       "62                  guava       cgdecker         421.0\n",
       "32               protobuf          pherl         368.0\n",
       "15                iosched    PaulRashidi         145.0\n",
       "16                iosched   freewheelnat         129.0\n",
       "17                iosched         tjohns          50.0\n",
       "0   material-design-icons       jestelle          37.0\n",
       "1   material-design-icons       shyndman          36.0\n",
       "2   material-design-icons     addyosmani          12.0"
      ]
     },
     "execution_count": 6,
     "metadata": {},
     "output_type": "execute_result"
    }
   ],
   "source": []
  },
  {
   "cell_type": "code",
   "execution_count": null,
   "metadata": {
    "collapsed": true
   },
   "outputs": [],
   "source": []
  },
  {
   "cell_type": "markdown",
   "metadata": {},
   "source": [
    "### Point to note here is\n",
    "\n",
    "#### Given that top committers are those you can commit to master Repo not the merge committer. So filtering out dataset based on top contributors and their total commits."
   ]
  },
  {
   "cell_type": "code",
   "execution_count": null,
   "metadata": {
    "collapsed": true
   },
   "outputs": [],
   "source": []
  }
 ],
 "metadata": {
  "anaconda-cloud": {},
  "kernelspec": {
   "display_name": "Python [conda root]",
   "language": "python",
   "name": "conda-root-py"
  },
  "language_info": {
   "codemirror_mode": {
    "name": "ipython",
    "version": 2
   },
   "file_extension": ".py",
   "mimetype": "text/x-python",
   "name": "python",
   "nbconvert_exporter": "python",
   "pygments_lexer": "ipython2",
   "version": "2.7.12"
  }
 },
 "nbformat": 4,
 "nbformat_minor": 1
}
